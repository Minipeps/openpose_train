{
 "cells": [
  {
   "cell_type": "code",
   "execution_count": 1,
   "metadata": {},
   "outputs": [
    {
     "ename": "ModuleNotFoundError",
     "evalue": "No module named 'caffe'",
     "output_type": "error",
     "traceback": [
      "\u001b[1;31m---------------------------------------------------------------------------\u001b[0m",
      "\u001b[1;31mModuleNotFoundError\u001b[0m                       Traceback (most recent call last)",
      "\u001b[1;32m<ipython-input-1-4b9da335c4a0>\u001b[0m in \u001b[0;36m<module>\u001b[1;34m\u001b[0m\n\u001b[0;32m     21\u001b[0m \u001b[1;31m# Caffe includes\u001b[0m\u001b[1;33m\u001b[0m\u001b[1;33m\u001b[0m\u001b[1;33m\u001b[0m\u001b[0m\n\u001b[0;32m     22\u001b[0m \u001b[0msys\u001b[0m\u001b[1;33m.\u001b[0m\u001b[0mpath\u001b[0m\u001b[1;33m.\u001b[0m\u001b[0minsert\u001b[0m\u001b[1;33m(\u001b[0m\u001b[1;36m0\u001b[0m\u001b[1;33m,\u001b[0m \u001b[0mos\u001b[0m\u001b[1;33m.\u001b[0m\u001b[0mpath\u001b[0m\u001b[1;33m.\u001b[0m\u001b[0mjoin\u001b[0m\u001b[1;33m(\u001b[0m\u001b[0msCaffeFolder\u001b[0m\u001b[1;33m,\u001b[0m \u001b[1;34m'python'\u001b[0m\u001b[1;33m)\u001b[0m\u001b[1;33m)\u001b[0m\u001b[1;33m\u001b[0m\u001b[1;33m\u001b[0m\u001b[0m\n\u001b[1;32m---> 23\u001b[1;33m \u001b[1;32mimport\u001b[0m \u001b[0mcaffe\u001b[0m\u001b[1;33m\u001b[0m\u001b[1;33m\u001b[0m\u001b[0m\n\u001b[0m\u001b[0;32m     24\u001b[0m \u001b[1;32mfrom\u001b[0m \u001b[0mcaffe\u001b[0m \u001b[1;32mimport\u001b[0m \u001b[0mlayers\u001b[0m \u001b[1;32mas\u001b[0m \u001b[0mL\u001b[0m  \u001b[1;31m# pseudo module using __getattr__ magic to generate protobuf messages\u001b[0m\u001b[1;33m\u001b[0m\u001b[1;33m\u001b[0m\u001b[0m\n\u001b[0;32m     25\u001b[0m \u001b[1;32mfrom\u001b[0m \u001b[0mcaffe\u001b[0m \u001b[1;32mimport\u001b[0m \u001b[0mparams\u001b[0m \u001b[1;32mas\u001b[0m \u001b[0mP\u001b[0m  \u001b[1;31m# pseudo module using __getattr__ magic to generate protobuf messages\u001b[0m\u001b[1;33m\u001b[0m\u001b[1;33m\u001b[0m\u001b[0m\n",
      "\u001b[1;31mModuleNotFoundError\u001b[0m: No module named 'caffe'"
     ]
    }
   ],
   "source": [
    "%matplotlib inline\n",
    "import os\n",
    "import sys\n",
    "import matplotlib.pyplot as plt\n",
    "import numpy as np\n",
    "\n",
    "# sCaffeFolder =  '/home/gines/devel/openpose_caffe_train/'\n",
    "sCaffeFolder =  'D:/Documents/Programmation/openpose_caffe_train/'\n",
    "# sBasePath = '/media/posefs3b/Users/gines/openpose_train/training_results/1_19Binary/pose/body_19/'\n",
    "# sBasePath = '/media/posefs3b/Users/gines/openpose_train/training_results/1_19Binary2/pose/body_19/'\n",
    "# sBasePath = '/media/posefs3b/Users/gines/openpose_train/training_results/2_19bOcclusion/pose/body_19b/'\n",
    "sBasePath = 'D:/Documents/Programmation/openpose_train/training_results/pig5_v1/pig/pig_5/'\n",
    "sFirstBinaryLayer = 'Mconv4_stage1_L2'\n",
    "\n",
    "sProtoTxt =  sBasePath + 'pose_deploy.prototxt'\n",
    "# sCaffemodelPath =  sBasePath + 'pose_iter_202000.caffemodel'\n",
    "# sCaffemodelPath =  sBasePath + 'pose_iter_12000.caffemodel'\n",
    "# sCaffemodelPath =  sBasePath + 'pose_iter_336000.caffemodel'\n",
    "sCaffemodelPath =  sBasePath + 'pose_iter_150000.caffemodel'\n",
    "\n",
    "# Caffe includes\n",
    "sys.path.insert(0, os.path.join(sCaffeFolder, 'python'))\n",
    "import caffe\n",
    "from caffe import layers as L  # pseudo module using __getattr__ magic to generate protobuf messages\n",
    "from caffe import params as P  # pseudo module using __getattr__ magic to generate protobuf messages\n",
    "\n",
    "def net_to_py_readable(protoTxtPath, caffemodelPath):\n",
    "    net = caffe.Net(protoTxtPath, caffemodelPath, caffe.TEST) # read the net + weights\n",
    "    pynet_ = []\n",
    "    for li in xrange(len(net.layers)):  # for each layer in the net\n",
    "        layer = {}  # store layer's information\n",
    "        layer['name'] = net._layer_names[li]\n",
    "        # for each input to the layer (aka \"bottom\") store its name and shape\n",
    "        layer['bottoms'] = [(net._blob_names[bi], net.blobs[net._blob_names[bi]].data.shape) \n",
    "                                                 for bi in list(net._bottom_ids(li))] \n",
    "        # for each output of the layer (aka \"top\") store its name and shape\n",
    "        layer['tops'] = [(net._blob_names[bi], net.blobs[net._blob_names[bi]].data.shape) \n",
    "                                            for bi in list(net._top_ids(li))]\n",
    "        layer['type'] = net.layers[li].type  # type of the layer\n",
    "        # the internal parameters of the layer. not all layers has weights.\n",
    "        layer['weights'] = [net.layers[li].blobs[bi].data[...] \n",
    "                                                for bi in xrange(len(net.layers[li].blobs))]\n",
    "        pynet_.append(layer)\n",
    "    return pynet_\n",
    "\n",
    "sNetParameters = net_to_py_readable(sProtoTxt, sCaffemodelPath)"
   ]
  },
  {
   "cell_type": "code",
   "execution_count": 0,
   "metadata": {},
   "outputs": [],
   "source": [
    "startRecording = False\n",
    "for netParameter in sNetParameters:\n",
    "    if netParameter['name'] == sFirstBinaryLayer:\n",
    "        startRecording = True\n",
    "    if netParameter['type'] == 'Convolution' and startRecording:\n",
    "        # weights = netParameter['weights'][0]\n",
    "        # bias = netParameter['weights'][1]\n",
    "        weightsArray = np.asarray(netParameter['weights'][0], dtype=np.float32)\n",
    "        if weightsArray.shape[2] > 1 and weightsArray.shape[3] > 1:\n",
    "            weightsArray = weightsArray.reshape(np.prod(weightsArray.shape), 1).copy()\n",
    "            plt.hist(weightsArray, normed=True, bins=100)\n",
    "            plt.ylabel('Probability');\n",
    "            plt.xlabel('Weight value');\n",
    "#             plt.ylim(0, ymax)\n",
    "            plt.xlim(-0.15, 0.15)\n"
   ]
  },
  {
   "cell_type": "code",
   "execution_count": 3,
   "metadata": {},
   "outputs": [
    {
     "ename": "NameError",
     "evalue": "name 'sNetParameters' is not defined",
     "output_type": "error",
     "traceback": [
      "\u001b[1;31m---------------------------------------------------------------------------\u001b[0m",
      "\u001b[1;31mNameError\u001b[0m                                 Traceback (most recent call last)",
      "\u001b[1;32m<ipython-input-3-0344ec7960b9>\u001b[0m in \u001b[0;36m<module>\u001b[1;34m\u001b[0m\n\u001b[0;32m      1\u001b[0m \u001b[0mstartRecording\u001b[0m \u001b[1;33m=\u001b[0m \u001b[1;32mFalse\u001b[0m\u001b[1;33m\u001b[0m\u001b[1;33m\u001b[0m\u001b[0m\n\u001b[1;32m----> 2\u001b[1;33m \u001b[1;32mfor\u001b[0m \u001b[0mnetParameter\u001b[0m \u001b[1;32min\u001b[0m \u001b[0msNetParameters\u001b[0m\u001b[1;33m:\u001b[0m\u001b[1;33m\u001b[0m\u001b[1;33m\u001b[0m\u001b[0m\n\u001b[0m\u001b[0;32m      3\u001b[0m     \u001b[1;32mif\u001b[0m \u001b[0mnetParameter\u001b[0m\u001b[1;33m[\u001b[0m\u001b[1;34m'name'\u001b[0m\u001b[1;33m]\u001b[0m \u001b[1;33m==\u001b[0m \u001b[1;34m'conv4_3_CPM'\u001b[0m\u001b[1;33m:\u001b[0m\u001b[1;33m\u001b[0m\u001b[1;33m\u001b[0m\u001b[0m\n\u001b[0;32m      4\u001b[0m         \u001b[1;31m# weights = netParameter['weights'][0]\u001b[0m\u001b[1;33m\u001b[0m\u001b[1;33m\u001b[0m\u001b[1;33m\u001b[0m\u001b[0m\n\u001b[0;32m      5\u001b[0m         \u001b[1;31m# bias = netParameter['weights'][1]\u001b[0m\u001b[1;33m\u001b[0m\u001b[1;33m\u001b[0m\u001b[1;33m\u001b[0m\u001b[0m\n",
      "\u001b[1;31mNameError\u001b[0m: name 'sNetParameters' is not defined"
     ]
    }
   ],
   "source": [
    "startRecording = False\n",
    "for netParameter in sNetParameters:\n",
    "    if netParameter['name'] == 'conv4_3_CPM':\n",
    "        # weights = netParameter['weights'][0]\n",
    "        # bias = netParameter['weights'][1]\n",
    "        weightsArray = np.asarray(netParameter['weights'][0], dtype=np.float32)\n",
    "        if weightsArray.shape[2] > 1 and weightsArray.shape[3] > 1:\n",
    "            weightsArray = weightsArray.reshape(np.prod(weightsArray.shape), 1).copy()\n",
    "            plt.hist(weightsArray, normed=True, bins=101)\n",
    "            plt.ylabel('Probability');\n",
    "            plt.xlabel('Weight value');\n",
    "#             plt.ylim(0, ymax)\n",
    "            plt.xlim(-0.15, 0.15)\n"
   ]
  },
  {
   "cell_type": "code",
   "execution_count": null,
   "metadata": {},
   "outputs": [],
   "source": []
  }
 ],
 "metadata": {
  "kernelspec": {
   "display_name": "Python 2",
   "language": "python",
   "name": "python2"
  },
  "language_info": {
   "codemirror_mode": {
    "name": "ipython",
    "version": 2
   },
   "file_extension": ".py",
   "mimetype": "text/x-python",
   "name": "python",
   "nbconvert_exporter": "python",
   "pygments_lexer": "ipython2",
   "version": "2.7.12"
  }
 },
 "nbformat": 4,
 "nbformat_minor": 2
}